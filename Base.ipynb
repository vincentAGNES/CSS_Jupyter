{
 "cells": [
  {
   "cell_type": "code",
   "execution_count": 2,
   "metadata": {},
   "outputs": [
    {
     "data": {
      "application/javascript": [
       "// Code from this interesting website:\n",
       "// https://www.perfectlyrandom.org/2016/03/19/sublime-text-style-multiple-cursors-in-jupyter-notebook/\n",
       "\n",
       "require([\"codemirror/keymap/sublime\", \"notebook/js/cell\", \"base/js/namespace\"],function(sublime_keymap, cell, IPython) {\n",
       "// setTimeout(function(){ // uncomment line to fake race-condition\n",
       "cell.Cell.options_default.cm_config.keyMap = 'sublime';\n",
       "var cells = IPython.notebook.get_cells();\n",
       "for(var c=0; c< cells.length ; c++){\n",
       "cells[c].code_mirror.setOption('keyMap', 'sublime');\n",
       "}\n",
       "\n",
       "// }, 1000)// uncomment line to fake race condition\n",
       "}\n",
       ");\n",
       "\n",
       "// alert(\"You should be able to use Ctrl + d like in Sublime text\")\n",
       "\n"
      ],
      "text/plain": [
       "<IPython.core.display.Javascript object>"
      ]
     },
     "execution_count": 2,
     "metadata": {},
     "output_type": "execute_result"
    }
   ],
   "source": [
    "%load https://raw.githubusercontent.com/vincentAGNES/Jupyter-notebook/master/jupyter_import.py "
   ]
  },
  {
   "cell_type": "code",
   "execution_count": null,
   "metadata": {},
   "outputs": [],
   "source": [
    "%load https://raw.githubusercontent.com/vincentAGNES/Jupyter-notebook/master/jupyter_jsSublime.py"
   ]
  },
  {
   "cell_type": "code",
   "execution_count": 47,
   "metadata": {},
   "outputs": [
    {
     "data": {
      "text/html": [
       "<style>\n",
       "div.alert {\n",
       "    font-family:\"times new roman\", times, serif;    \n",
       "} \n",
       "\n",
       "div.alert-custom1{\n",
       "    background-color: #f9d09d;\n",
       "}\n",
       "div.alert-custom2{\n",
       "    background-color: #dafba1; \n",
       "}\n",
       "div.alert-custom3{\n",
       "    background-color: #d6a1fb; \n",
       "}\n",
       "div.alert:hover {\n",
       "    opacity:80%\n",
       "}\n",
       "\n",
       "div.titlepage  {\n",
       "    font-size: 200%;\n",
       "    #font-family: Helvetica;\n",
       "    font-weight: Bold;\n",
       "    color: #444444;\n",
       "    text-align: center\n",
       "}\n",
       "\n",
       "div.titlepart {\n",
       "    font-size: 150%;\n",
       "}              </style>"
      ],
      "text/plain": [
       "<IPython.core.display.HTML object>"
      ]
     },
     "execution_count": 47,
     "metadata": {},
     "output_type": "execute_result"
    }
   ],
   "source": [
    "%load https://raw.githubusercontent.com/vincentAGNES/Jupyter-notebook-shortpaths/master/jupyter_css.py"
   ]
  },
  {
   "cell_type": "markdown",
   "metadata": {},
   "source": [
    "<div class=\"alert alert-custom1\">\n",
    "     <div class=\"titlepage\">Toto</div>\n",
    "    <h3>Notebook Plan</h3>\n",
    "    <hr>\n",
    "    <div class='plan part'>\n",
    "    <a href='#1' title='Jump to this part'>\n",
    "        <div class=\"titlepart\"><b> 1- </b>  Data Visualization and Preprocessing</div>\n",
    "    </a>\n",
    "    </div>\n",
    "    <hr>\n",
    "    <a href='#2' title='Jump to this part'>\n",
    "        <div class=\"titlepart\"> <b> 2- </b> Model Selection and Parameter optimization </div>\n",
    "    </a>\n",
    "    <hr>\n",
    "    <a href='#3' title='Jump to this part'>\n",
    "        <div class=\"titlepart\"> <b> 3- </b> Conclusions </div>\n",
    "    </a>    \n",
    "</div>"
   ]
  },
  {
   "cell_type": "code",
   "execution_count": null,
   "metadata": {},
   "outputs": [],
   "source": [
    "train = pd.read_csv('Data/train.csv')\n",
    "test = pd.read_csv('Data/test.csv') \n",
    "train[:10]"
   ]
  },
  {
   "cell_type": "markdown",
   "metadata": {},
   "source": [
    "<div class=\"alert alert-custom2\">\n",
    "\n",
    "Comments...\n",
    "\n",
    "</div>"
   ]
  },
  {
   "cell_type": "code",
   "execution_count": null,
   "metadata": {},
   "outputs": [],
   "source": [
    "String='<div class=\"alert alert-custom3\">'\n",
    "\n",
    "print(\"number of columns \",len(list(train)),\"\\n\")\n",
    "print(list(train))"
   ]
  },
  {
   "cell_type": "code",
   "execution_count": 36,
   "metadata": {},
   "outputs": [
    {
     "data": {
      "text/markdown": [
       "<div class=\"alert alert-custom3\">The variable a is 40 $\\phi$ </div>"
      ],
      "text/plain": [
       "<IPython.core.display.Markdown object>"
      ]
     },
     "metadata": {},
     "output_type": "display_data"
    }
   ],
   "source": [
    "String='<div class=\"alert alert-custom3\">'\n",
    "# python code\n",
    "\n",
    "\n",
    "a=8*5\n",
    "String+= 'The variable a is ' + str(a)\n",
    "someLatex=' $\\phi$ '\n",
    "String+=someLatex\n",
    "String+='</div>'\n",
    "display(Markdown(String))"
   ]
  },
  {
   "cell_type": "code",
   "execution_count": null,
   "metadata": {},
   "outputs": [],
   "source": []
  },
  {
   "cell_type": "markdown",
   "metadata": {},
   "source": [
    "<div class=\"alert alert-custom1\" role=\"alert\">\n",
    "<div id=\"1\" class=\"titlepart\"> <b> 1- </b>Data Visualization and Preprocessing </div>\n",
    "</div>"
   ]
  },
  {
   "cell_type": "code",
   "execution_count": null,
   "metadata": {},
   "outputs": [],
   "source": []
  },
  {
   "cell_type": "code",
   "execution_count": null,
   "metadata": {},
   "outputs": [],
   "source": [
    "\n",
    "\n",
    "\n",
    "\n",
    "\n",
    "\n",
    "\n",
    "\n",
    "\n",
    "\n",
    "\n",
    "\n",
    "\n",
    "\n",
    "\n"
   ]
  },
  {
   "cell_type": "markdown",
   "metadata": {},
   "source": [
    "<div class=\"alert alert-custom1\" role=\"alert\">\n",
    " <div class=\"titlepart\" id='2'> <b> 2- </b> Model Selection and Parameter optimization </div>\n",
    "</div>"
   ]
  },
  {
   "cell_type": "code",
   "execution_count": null,
   "metadata": {},
   "outputs": [],
   "source": [
    "import scipy.stats \n",
    "from sklearn.model_selection import ParameterSampler\n",
    "\n",
    "hyperparameters = {\n",
    "    \n",
    "    'learning_rate': scipy.stats.uniform(0.0001,1), \n",
    "    'n_estimators' : scipy.stats.randint(10, 1000), \n",
    "    'max_depth': scipy.stats.randint(1, 10)\n",
    "    }\n",
    "\n",
    "parameter_grid = list(ParameterSampler(hyperparameters,n_iter=15))\n",
    "\n",
    "resultsDF = pd.DataFrame(columns=['learning_rate', 'n_estimators','max_depth'])\n",
    "\n",
    "for parameter_combination in parameter_grid:\n",
    "    model = GradientBoostingRegressor(n_estimators=parameter_combination['n_estimators'], learning_rate=parameter_combination['learning_rate'], max_depth=parameter_combination['max_depth'])  \n",
    "    model=model.fit(X_train_cleaned_outliers,y_train_cleaned_outliers)\n",
    "    pred = model.predict(X_test_cleaned_outliers.values)\n",
    "    \n",
    "    parameter_combination['score'] = score(y_test_cleaned_outliers,pred)\n",
    "    resultsDF = resultsDF.append(parameter_combination, ignore_index=True)\n",
    " \n",
    "    \n",
    "resultsDF.sort_values(by='score')\n",
    "\n"
   ]
  },
  {
   "cell_type": "markdown",
   "metadata": {},
   "source": [
    "<div class=\"alert alert-custom1\" role=\"alert\">\n",
    "    <div id=\"3\" class=\"titlepart\"> <b> 3- </b> Conclusions </div>\n",
    "</div>"
   ]
  },
  {
   "cell_type": "code",
   "execution_count": null,
   "metadata": {},
   "outputs": [],
   "source": []
  }
 ],
 "metadata": {
  "kernelspec": {
   "display_name": "Python 3",
   "language": "python",
   "name": "python3"
  },
  "language_info": {
   "codemirror_mode": {
    "name": "ipython",
    "version": 3
   },
   "file_extension": ".py",
   "mimetype": "text/x-python",
   "name": "python",
   "nbconvert_exporter": "python",
   "pygments_lexer": "ipython3",
   "version": "3.6.8"
  }
 },
 "nbformat": 4,
 "nbformat_minor": 2
}
